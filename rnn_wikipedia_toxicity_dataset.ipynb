{
  "cells": [
    {
      "cell_type": "markdown",
      "metadata": {
        "id": "hX4n9TsbGw-f"
      },
      "source": [
        "##### Copyright 2018 The TensorFlow Authors."
      ]
    },
    {
      "cell_type": "code",
      "execution_count": 5,
      "metadata": {
        "cellView": "form",
        "id": "0nbI5DtDGw-i"
      },
      "outputs": [],
      "source": [
        "#@title Licensed under the Apache License, Version 2.0 (the \"License\");\n",
        "# you may not use this file except in compliance with the License.\n",
        "# You may obtain a copy of the License at\n",
        "#\n",
        "# https://www.apache.org/licenses/LICENSE-2.0\n",
        "#\n",
        "# Unless required by applicable law or agreed to in writing, software\n",
        "# distributed under the License is distributed on an \"AS IS\" BASIS,\n",
        "# WITHOUT WARRANTIES OR CONDITIONS OF ANY KIND, either express or implied.\n",
        "# See the License for the specific language governing permissions and\n",
        "# limitations under the License."
      ]
    },
    {
      "cell_type": "markdown",
      "metadata": {
        "id": "9TnJztDZGw-n"
      },
      "source": [
        "# Text classification with an RNN"
      ]
    },
    {
      "cell_type": "markdown",
      "metadata": {
        "id": "AfN3bMR5Gw-o"
      },
      "source": [
        "<table class=\"tfo-notebook-buttons\" align=\"left\">\n",
        "  <td>\n",
        "    <a target=\"_blank\" href=\"https://www.tensorflow.org/text/tutorials/text_classification_rnn\"><img src=\"https://www.tensorflow.org/images/tf_logo_32px.png\" />View on TensorFlow.org</a>\n",
        "  </td>\n",
        "  <td>\n",
        "    <a target=\"_blank\" href=\"https://colab.research.google.com/github/tensorflow/text/blob/master/docs/tutorials/text_classification_rnn.ipynb\"><img src=\"https://www.tensorflow.org/images/colab_logo_32px.png\" />Run in Google Colab</a>\n",
        "  </td>\n",
        "  <td>\n",
        "    <a target=\"_blank\" href=\"https://github.com/tensorflow/text/blob/master/docs/tutorials/text_classification_rnn.ipynb\"><img src=\"https://www.tensorflow.org/images/GitHub-Mark-32px.png\" />View source on GitHub</a>\n",
        "  </td>\n",
        "  <td>\n",
        "    <a href=\"https://storage.googleapis.com/tensorflow_docs/text/docs/tutorials/text_classification_rnn.ipynb\"><img src=\"https://www.tensorflow.org/images/download_logo_32px.png\" />Download notebook</a>\n",
        "  </td>\n",
        "</table>"
      ]
    },
    {
      "cell_type": "markdown",
      "metadata": {
        "id": "lUWearf0Gw-p"
      },
      "source": [
        "This text classification tutorial trains a [recurrent neural network](https://developers.google.com/machine-learning/glossary/#recurrent_neural_network) on the [IMDB large movie review dataset](http://ai.stanford.edu/~amaas/data/sentiment/) for sentiment analysis."
      ]
    },
    {
      "cell_type": "markdown",
      "metadata": {
        "id": "_2VQo4bajwUU"
      },
      "source": [
        "## Setup"
      ]
    },
    {
      "cell_type": "code",
      "execution_count": 6,
      "metadata": {
        "id": "z682XYsrjkY9"
      },
      "outputs": [],
      "source": [
        "import numpy as np\n",
        "\n",
        "import tensorflow_datasets as tfds\n",
        "import tensorflow as tf\n",
        "\n",
        "tfds.disable_progress_bar()"
      ]
    },
    {
      "cell_type": "markdown",
      "metadata": {
        "id": "1rXHa-w9JZhb"
      },
      "source": [
        "Import `matplotlib` and create a helper function to plot graphs:"
      ]
    },
    {
      "cell_type": "code",
      "execution_count": 7,
      "metadata": {
        "id": "Mp1Z7P9pYRSK"
      },
      "outputs": [],
      "source": [
        "import matplotlib.pyplot as plt\n",
        "\n",
        "\n",
        "def plot_graphs(history, metric):\n",
        "  plt.plot(history.history[metric])\n",
        "  plt.plot(history.history['val_'+metric], '')\n",
        "  plt.xlabel(\"Epochs\")\n",
        "  plt.ylabel(metric)\n",
        "  plt.legend([metric, 'val_'+metric])"
      ]
    },
    {
      "cell_type": "markdown",
      "metadata": {
        "id": "pRmMubr0jrE2"
      },
      "source": [
        "## Setup input pipeline\n",
        "\n",
        "\n",
        "The IMDB large movie review dataset is a *binary classification* dataset—all the reviews have either a *positive* or *negative* sentiment.\n",
        "\n",
        "Download the dataset using [TFDS](https://www.tensorflow.org/datasets). See the [loading text tutorial](https://www.tensorflow.org/tutorials/load_data/text) for details on how to load this sort of data manually.\n"
      ]
    },
    {
      "cell_type": "code",
      "execution_count": 8,
      "metadata": {
        "id": "SHRwRoP2nVHX",
        "colab": {
          "base_uri": "https://localhost:8080/"
        },
        "outputId": "e6f0b8d6-0c73-488c-c39e-e43d981ee164"
      },
      "outputs": [
        {
          "output_type": "stream",
          "name": "stdout",
          "text": [
            "\u001b[1mDownloading and preparing dataset 50.57 MiB (download: 50.57 MiB, generated: 128.32 MiB, total: 178.89 MiB) to ~/tensorflow_datasets/wikipedia_toxicity_subtypes/EnglishSubtypes/0.3.1...\u001b[0m\n",
            "\u001b[1mDataset wikipedia_toxicity_subtypes downloaded and prepared to ~/tensorflow_datasets/wikipedia_toxicity_subtypes/EnglishSubtypes/0.3.1. Subsequent calls will reuse this data.\u001b[0m\n"
          ]
        },
        {
          "output_type": "execute_result",
          "data": {
            "text/plain": [
              "(TensorSpec(shape=(), dtype=tf.string, name=None),\n",
              " TensorSpec(shape=(), dtype=tf.float32, name=None))"
            ]
          },
          "metadata": {},
          "execution_count": 8
        }
      ],
      "source": [
        "dataset, info = tfds.load('wikipedia_toxicity_subtypes', with_info=True,\n",
        "                          as_supervised=True)\n",
        "train_dataset, test_dataset = dataset['train'], dataset['test']\n",
        "\n",
        "train_dataset.element_spec"
      ]
    },
    {
      "cell_type": "markdown",
      "metadata": {
        "id": "nWA4c2ir7g6p"
      },
      "source": [
        "Initially this returns a dataset of (text, label pairs):"
      ]
    },
    {
      "cell_type": "code",
      "execution_count": 9,
      "metadata": {
        "id": "vd4_BGKyurao",
        "colab": {
          "base_uri": "https://localhost:8080/"
        },
        "outputId": "0b18eb54-2d14-4c16-db26-1adf0c15ca29"
      },
      "outputs": [
        {
          "output_type": "stream",
          "name": "stdout",
          "text": [
            "text:  b'\"\\nThanks Xeno. -  \\xe2\\x80\\xa2 Talk \\xe2\\x80\\xa2 \"'\n",
            "label:  0.0\n"
          ]
        }
      ],
      "source": [
        "for example, label in train_dataset.take(1):\n",
        "  print('text: ', example.numpy())\n",
        "  print('label: ', label.numpy())"
      ]
    },
    {
      "cell_type": "markdown",
      "metadata": {
        "id": "z2qVJzcEluH_"
      },
      "source": [
        "Next shuffle the data for training and create batches of these `(text, label)` pairs:"
      ]
    },
    {
      "cell_type": "code",
      "execution_count": 10,
      "metadata": {
        "id": "dDsCaZCDYZgm"
      },
      "outputs": [],
      "source": [
        "BUFFER_SIZE = 10000\n",
        "BATCH_SIZE = 64"
      ]
    },
    {
      "cell_type": "code",
      "execution_count": 11,
      "metadata": {
        "id": "VznrltNOnUc5"
      },
      "outputs": [],
      "source": [
        "train_dataset = train_dataset.shuffle(BUFFER_SIZE).batch(BATCH_SIZE).prefetch(tf.data.AUTOTUNE)\n",
        "test_dataset = test_dataset.batch(BATCH_SIZE).prefetch(tf.data.AUTOTUNE)"
      ]
    },
    {
      "cell_type": "code",
      "execution_count": 12,
      "metadata": {
        "id": "jqkvdcFv41wC",
        "colab": {
          "base_uri": "https://localhost:8080/"
        },
        "outputId": "c206ff89-4370-46d7-f1f4-60b8cc1278fe"
      },
      "outputs": [
        {
          "output_type": "stream",
          "name": "stdout",
          "text": [
            "texts:  [b'Just needs someone to write it - how about you?'\n",
            " b\"Accusation of plagiarism =\\n\\nYnhockey, you have made a rather serious accusation  plagiarism  against me: .\\n\\nHowever, plagiarism occurs when someone else's material is misrepresented as one own's work. How can my edits be plagiarism, since I clearly referenced the source material  Haaretz?  \\n\\nI think you have confused plagiarism and copyright. From plagiarism:\\n\\nPlagiarism is not copyright infringement. While both terms may apply to a particular act, they are different transgressions. Copyright infringement is a violation of the rights of a copyright holder, when material protected by copyright is used without consent. On the other hand, plagiarism is concerned with the unearned increment to the plagiarizing author's reputation that is achieved through false claims of authorship.\\nContents\\n\\nYou wil find that using the 2 sentences in question fall under fair use.\\n\\nRegardless, plagiarism is a serious and, in this case, untrue accusation to make and I consider your behaviour a violation of WP:CIVIL.\"\n",
            " b'Great work & a suggestion! \\n\\nThanks for the new template, Deba! It works very well for established editors. Perhaps we could come up with a more cutesy, friendlier template for inviting newbie editors to WikiProject India?']\n",
            "\n",
            "labels:  [0. 0. 0.]\n"
          ]
        }
      ],
      "source": [
        "for example, label in train_dataset.take(1):\n",
        "  print('texts: ', example.numpy()[:3])\n",
        "  print()\n",
        "  print('labels: ', label.numpy()[:3])"
      ]
    },
    {
      "cell_type": "markdown",
      "metadata": {
        "id": "s5eWCo88voPY"
      },
      "source": [
        "## Create the text encoder"
      ]
    },
    {
      "cell_type": "markdown",
      "metadata": {
        "id": "TFevcItw15P_"
      },
      "source": [
        "The raw text loaded by `tfds` needs to be processed before it can be used in a model. The simplest way to process text for training is using the `TextVectorization` layer. This layer has many capabilities, but this tutorial sticks to the default behavior.\n",
        "\n",
        "Create the layer, and pass the dataset's text to the layer's `.adapt` method:"
      ]
    },
    {
      "cell_type": "code",
      "execution_count": 13,
      "metadata": {
        "id": "uC25Lu1Yvuqy"
      },
      "outputs": [],
      "source": [
        "VOCAB_SIZE = 1000\n",
        "encoder = tf.keras.layers.TextVectorization(\n",
        "    max_tokens=VOCAB_SIZE)\n",
        "encoder.adapt(train_dataset.map(lambda text, label: text))"
      ]
    },
    {
      "cell_type": "markdown",
      "metadata": {
        "id": "IuQzVBbe3Ldu"
      },
      "source": [
        "The `.adapt` method sets the layer's vocabulary. Here are the first 20 tokens. After the padding and unknown tokens they're sorted by frequency: "
      ]
    },
    {
      "cell_type": "code",
      "execution_count": 14,
      "metadata": {
        "id": "tBoyjjWg0Ac9",
        "colab": {
          "base_uri": "https://localhost:8080/"
        },
        "outputId": "b654788e-9149-4f4c-ecac-35b6a479af35"
      },
      "outputs": [
        {
          "output_type": "execute_result",
          "data": {
            "text/plain": [
              "array(['', '[UNK]', 'the', 'to', 'of', 'and', 'a', 'you', 'i', 'is',\n",
              "       'that', 'in', 'it', 'for', 'this', 'not', 'on', 'be', 'as', 'have'],\n",
              "      dtype='<U14')"
            ]
          },
          "metadata": {},
          "execution_count": 14
        }
      ],
      "source": [
        "vocab = np.array(encoder.get_vocabulary())\n",
        "vocab[:20]"
      ]
    },
    {
      "cell_type": "markdown",
      "metadata": {
        "id": "mjId5pua3jHQ"
      },
      "source": [
        "Once the vocabulary is set, the layer can encode text into indices. The tensors of indices are 0-padded to the longest sequence in the batch (unless you set a fixed `output_sequence_length`):"
      ]
    },
    {
      "cell_type": "code",
      "execution_count": 15,
      "metadata": {
        "id": "RGc7C9WiwRWs",
        "colab": {
          "base_uri": "https://localhost:8080/"
        },
        "outputId": "9499cbb5-34be-4890-b0bf-c10e9c015c32"
      },
      "outputs": [
        {
          "output_type": "execute_result",
          "data": {
            "text/plain": [
              "array([[ 51, 340, 154, ...,   0,   0,   0],\n",
              "       [  1,   4,   1, ...,   0,   0,   0],\n",
              "       [275, 141,   6, ...,   0,   0,   0]])"
            ]
          },
          "metadata": {},
          "execution_count": 15
        }
      ],
      "source": [
        "encoded_example = encoder(example)[:3].numpy()\n",
        "encoded_example"
      ]
    },
    {
      "cell_type": "markdown",
      "metadata": {
        "id": "F5cjz0bS39IN"
      },
      "source": [
        "With the default settings, the process is not completely reversible. There are three main reasons for that:\n",
        "\n",
        "1. The default value for `preprocessing.TextVectorization`'s `standardize` argument is `\"lower_and_strip_punctuation\"`.\n",
        "2. The limited vocabulary size and lack of character-based fallback results in some unknown tokens."
      ]
    },
    {
      "cell_type": "code",
      "execution_count": 16,
      "metadata": {
        "id": "N_tD0QY5wXaK",
        "colab": {
          "base_uri": "https://localhost:8080/"
        },
        "outputId": "60c77d3c-ca1a-4585-bd80-01c6b6a74eaa"
      },
      "outputs": [
        {
          "output_type": "stream",
          "name": "stdout",
          "text": [
            "Original:  b'Just needs someone to write it - how about you?'\n",
            "Round-trip:  just needs someone to write it how about you                                                                                                                                                                                                                                                                                                                                                                                                                                                                                                                                                                                                                                                                                                                                                                                                                     \n",
            "\n",
            "Original:  b\"Accusation of plagiarism =\\n\\nYnhockey, you have made a rather serious accusation  plagiarism  against me: .\\n\\nHowever, plagiarism occurs when someone else's material is misrepresented as one own's work. How can my edits be plagiarism, since I clearly referenced the source material  Haaretz?  \\n\\nI think you have confused plagiarism and copyright. From plagiarism:\\n\\nPlagiarism is not copyright infringement. While both terms may apply to a particular act, they are different transgressions. Copyright infringement is a violation of the rights of a copyright holder, when material protected by copyright is used without consent. On the other hand, plagiarism is concerned with the unearned increment to the plagiarizing author's reputation that is achieved through false claims of authorship.\\nContents\\n\\nYou wil find that using the 2 sentences in question fall under fair use.\\n\\nRegardless, plagiarism is a serious and, in this case, untrue accusation to make and I consider your behaviour a violation of WP:CIVIL.\"\n",
            "Round-trip:  [UNK] of [UNK] [UNK] you have made a rather serious [UNK] [UNK] against me however [UNK] [UNK] when someone [UNK] material is [UNK] as one [UNK] work how can my edits be [UNK] since i clearly [UNK] the source material [UNK] i think you have [UNK] [UNK] and copyright from [UNK] [UNK] is not copyright [UNK] while both terms may [UNK] to a particular act they are different [UNK] copyright [UNK] is a violation of the rights of a copyright [UNK] when material [UNK] by copyright is used without [UNK] on the other hand [UNK] is [UNK] with the [UNK] [UNK] to the [UNK] [UNK] [UNK] that is [UNK] through false claims of [UNK] [UNK] you [UNK] find that using the 2 [UNK] in question [UNK] under fair use [UNK] [UNK] is a serious and in this case [UNK] [UNK] to make and i consider your [UNK] a violation of [UNK]                                                                                                                                                                                                                                                                                                                                                                                                                                                                                                                                                                                                                                                                       \n",
            "\n",
            "Original:  b'Great work & a suggestion! \\n\\nThanks for the new template, Deba! It works very well for established editors. Perhaps we could come up with a more cutesy, friendlier template for inviting newbie editors to WikiProject India?'\n",
            "Round-trip:  great work a [UNK] thanks for the new template [UNK] it works very well for [UNK] editors perhaps we could come up with a more [UNK] [UNK] template for [UNK] [UNK] editors to wikiproject india                                                                                                                                                                                                                                                                                                                                                                                                                                                                                                                                                                                                                                                                                                                                                                                           \n",
            "\n"
          ]
        }
      ],
      "source": [
        "for n in range(3):\n",
        "  print(\"Original: \", example[n].numpy())\n",
        "  print(\"Round-trip: \", \" \".join(vocab[encoded_example[n]]))\n",
        "  print()"
      ]
    },
    {
      "cell_type": "markdown",
      "metadata": {
        "id": "bjUqGVBxGw-t"
      },
      "source": [
        "## Create the model"
      ]
    },
    {
      "cell_type": "markdown",
      "metadata": {
        "id": "W7zsmInBOCPO"
      },
      "source": [
        "![A drawing of the information flow in the model](https://github.com/tensorflow/text/blob/master/docs/tutorials/images/bidirectional.png?raw=1)"
      ]
    },
    {
      "cell_type": "markdown",
      "metadata": {
        "id": "bgs6nnSTGw-t"
      },
      "source": [
        "Above is a diagram of the model. \n",
        "\n",
        "1. This model can be build as a `tf.keras.Sequential`.\n",
        "\n",
        "2. The first layer is the `encoder`, which converts the text to a sequence of token indices.\n",
        "\n",
        "3. After the encoder is an embedding layer. An embedding layer stores one vector per word. When called, it converts the sequences of word indices to sequences of vectors. These vectors are trainable. After training (on enough data), words with similar meanings often have similar vectors.\n",
        "\n",
        "  This index-lookup is much more efficient than the equivalent operation of passing a one-hot encoded vector through a `tf.keras.layers.Dense` layer.\n",
        "\n",
        "4. A recurrent neural network (RNN) processes sequence input by iterating through the elements. RNNs pass the outputs from one timestep to their input on the next timestep.\n",
        "\n",
        "  The `tf.keras.layers.Bidirectional` wrapper can also be used with an RNN layer. This propagates the input forward and backwards through the RNN layer and then concatenates the final output. \n",
        "\n",
        "  * The main advantage of a bidirectional RNN is that the signal from the beginning of the input doesn't need to be processed all the way through every timestep to affect the output.  \n",
        "\n",
        "  * The main disadvantage of a bidirectional RNN is that you can't efficiently stream predictions as words are being added to the end.\n",
        "\n",
        "5. After the RNN has converted the sequence to a single vector the two `layers.Dense` do some final processing, and convert from this vector representation to a single logit as the classification output. \n"
      ]
    },
    {
      "cell_type": "markdown",
      "metadata": {
        "id": "V4fodCI7soQi"
      },
      "source": [
        "The code to implement this is below:"
      ]
    },
    {
      "cell_type": "code",
      "execution_count": 17,
      "metadata": {
        "id": "LwfoBkmRYcP3"
      },
      "outputs": [],
      "source": [
        "model = tf.keras.Sequential([\n",
        "    encoder,\n",
        "    tf.keras.layers.Embedding(\n",
        "        input_dim=len(encoder.get_vocabulary()),\n",
        "        output_dim=64,\n",
        "        # Use masking to handle the variable sequence lengths\n",
        "        mask_zero=True),\n",
        "    tf.keras.layers.Bidirectional(tf.keras.layers.LSTM(64)),\n",
        "    tf.keras.layers.Dense(64, activation='relu'),\n",
        "    tf.keras.layers.Dense(1)\n",
        "])"
      ]
    },
    {
      "cell_type": "markdown",
      "metadata": {
        "id": "QIGmIGkkouUb"
      },
      "source": [
        "Please note that Keras sequential model is used here since all the layers in the model only have single input and produce single output. In case you want to use stateful RNN layer, you might want to build your model with Keras functional API or model subclassing so that you can retrieve and reuse the RNN layer states. Please check [Keras RNN guide](https://www.tensorflow.org/guide/keras/rnn#rnn_state_reuse) for more details."
      ]
    },
    {
      "cell_type": "markdown",
      "metadata": {
        "id": "kF-PsCk1LwjY"
      },
      "source": [
        "The embedding layer [uses masking](https://www.tensorflow.org/guide/keras/masking_and_padding) to handle the varying sequence-lengths. All the layers after the `Embedding` support masking:"
      ]
    },
    {
      "cell_type": "code",
      "execution_count": 18,
      "metadata": {
        "id": "87a8-CwfKebw",
        "colab": {
          "base_uri": "https://localhost:8080/"
        },
        "outputId": "d5d591c7-a00f-4566-845d-f1e7d3c238d5"
      },
      "outputs": [
        {
          "output_type": "stream",
          "name": "stdout",
          "text": [
            "[False, True, True, True, True]\n"
          ]
        }
      ],
      "source": [
        "print([layer.supports_masking for layer in model.layers])"
      ]
    },
    {
      "cell_type": "markdown",
      "metadata": {
        "id": "ZlS0iaUIWLpI"
      },
      "source": [
        "To confirm that this works as expected, evaluate a sentence twice. First, alone so there's no padding to mask:"
      ]
    },
    {
      "cell_type": "code",
      "execution_count": 19,
      "metadata": {
        "id": "O41gw3KfWHus",
        "colab": {
          "base_uri": "https://localhost:8080/"
        },
        "outputId": "9a0047da-a1a0-4032-f2c1-870dc8fb0c52"
      },
      "outputs": [
        {
          "output_type": "stream",
          "name": "stdout",
          "text": [
            "[0.0212523]\n"
          ]
        }
      ],
      "source": [
        "# predict on a sample text without padding.\n",
        "\n",
        "sample_text = ('The movie was cool. The animation and the graphics '\n",
        "               'were out of this world. I would recommend this movie.')\n",
        "predictions = model.predict(np.array([sample_text]))\n",
        "print(predictions[0])"
      ]
    },
    {
      "cell_type": "markdown",
      "metadata": {
        "id": "K0VQmGnEWcuz"
      },
      "source": [
        "Now, evaluate it again in a batch with a longer sentence. The result should be identical:"
      ]
    },
    {
      "cell_type": "code",
      "execution_count": 20,
      "metadata": {
        "id": "UIgpuTeFNDzq",
        "colab": {
          "base_uri": "https://localhost:8080/"
        },
        "outputId": "fd8ba770-83c7-408a-c35c-4e4965a8ddfc"
      },
      "outputs": [
        {
          "output_type": "stream",
          "name": "stdout",
          "text": [
            "[0.02125229]\n"
          ]
        }
      ],
      "source": [
        "# predict on a sample text with padding\n",
        "\n",
        "padding = \"the \" * 2000\n",
        "predictions = model.predict(np.array([sample_text, padding]))\n",
        "print(predictions[0])"
      ]
    },
    {
      "cell_type": "markdown",
      "metadata": {
        "id": "sRI776ZcH3Tf"
      },
      "source": [
        "Compile the Keras model to configure the training process:"
      ]
    },
    {
      "cell_type": "code",
      "execution_count": 21,
      "metadata": {
        "id": "kj2xei41YZjC"
      },
      "outputs": [],
      "source": [
        "model.compile(loss=tf.keras.losses.BinaryCrossentropy(from_logits=True),\n",
        "              optimizer=tf.keras.optimizers.Adam(1e-4),\n",
        "              metrics=['accuracy'])"
      ]
    },
    {
      "cell_type": "markdown",
      "metadata": {
        "id": "zIwH3nto596k"
      },
      "source": [
        "## Train the model"
      ]
    },
    {
      "cell_type": "code",
      "execution_count": 22,
      "metadata": {
        "id": "hw86wWS4YgR2",
        "colab": {
          "base_uri": "https://localhost:8080/"
        },
        "outputId": "aa00c1ea-1945-459c-bf1f-44c428da262d"
      },
      "outputs": [
        {
          "output_type": "stream",
          "name": "stdout",
          "text": [
            "Epoch 1/10\n",
            "2494/2494 [==============================] - 153s 58ms/step - loss: 0.2105 - accuracy: 0.9294 - val_loss: 0.2261 - val_accuracy: 0.9198\n",
            "Epoch 2/10\n",
            "2494/2494 [==============================] - 143s 57ms/step - loss: 0.1446 - accuracy: 0.9487 - val_loss: 0.2051 - val_accuracy: 0.9286\n",
            "Epoch 3/10\n",
            "2494/2494 [==============================] - 144s 58ms/step - loss: 0.1401 - accuracy: 0.9498 - val_loss: 0.2128 - val_accuracy: 0.9245\n",
            "Epoch 4/10\n",
            "2494/2494 [==============================] - 143s 57ms/step - loss: 0.1380 - accuracy: 0.9503 - val_loss: 0.1988 - val_accuracy: 0.9323\n",
            "Epoch 5/10\n",
            "2494/2494 [==============================] - 141s 57ms/step - loss: 0.1365 - accuracy: 0.9500 - val_loss: 0.2089 - val_accuracy: 0.9302\n",
            "Epoch 6/10\n",
            "2494/2494 [==============================] - 142s 57ms/step - loss: 0.1354 - accuracy: 0.9504 - val_loss: 0.2072 - val_accuracy: 0.9307\n",
            "Epoch 7/10\n",
            "2494/2494 [==============================] - 142s 57ms/step - loss: 0.1338 - accuracy: 0.9504 - val_loss: 0.2109 - val_accuracy: 0.9266\n",
            "Epoch 8/10\n",
            "2494/2494 [==============================] - 145s 58ms/step - loss: 0.1326 - accuracy: 0.9507 - val_loss: 0.2150 - val_accuracy: 0.9260\n",
            "Epoch 9/10\n",
            "2494/2494 [==============================] - 142s 57ms/step - loss: 0.1314 - accuracy: 0.9510 - val_loss: 0.2018 - val_accuracy: 0.9344\n",
            "Epoch 10/10\n",
            "2494/2494 [==============================] - 142s 57ms/step - loss: 0.1300 - accuracy: 0.9511 - val_loss: 0.2138 - val_accuracy: 0.9276\n"
          ]
        }
      ],
      "source": [
        "history = model.fit(train_dataset, epochs=10,\n",
        "                    validation_data=test_dataset,\n",
        "                    validation_steps=30)"
      ]
    },
    {
      "cell_type": "code",
      "execution_count": 23,
      "metadata": {
        "id": "BaNbXi43YgUT",
        "colab": {
          "base_uri": "https://localhost:8080/"
        },
        "outputId": "f9b99704-88f5-49fa-bbac-c663be0190d0"
      },
      "outputs": [
        {
          "output_type": "stream",
          "name": "stdout",
          "text": [
            "1000/1000 [==============================] - 42s 42ms/step - loss: 0.2134 - accuracy: 0.9301\n",
            "Test Loss: 0.213371142745018\n",
            "Test Accuracy: 0.930116593837738\n"
          ]
        }
      ],
      "source": [
        "test_loss, test_acc = model.evaluate(test_dataset)\n",
        "\n",
        "print('Test Loss:', test_loss)\n",
        "print('Test Accuracy:', test_acc)"
      ]
    },
    {
      "cell_type": "code",
      "execution_count": 24,
      "metadata": {
        "id": "OZmwt_mzaQJk",
        "colab": {
          "base_uri": "https://localhost:8080/",
          "height": 519
        },
        "outputId": "b075f74b-152b-4866-c235-463a2ca45b5c"
      },
      "outputs": [
        {
          "output_type": "execute_result",
          "data": {
            "text/plain": [
              "(0.0, 0.23089056089520454)"
            ]
          },
          "metadata": {},
          "execution_count": 24
        },
        {
          "output_type": "display_data",
          "data": {
            "text/plain": [
              "<Figure size 1152x576 with 2 Axes>"
            ],
            "image/png": "[encoded data removed]"
          },
          "metadata": {
            "needs_background": "light"
          }
        }
      ],
      "source": [
        "plt.figure(figsize=(16, 8))\n",
        "plt.subplot(1, 2, 1)\n",
        "plot_graphs(history, 'accuracy')\n",
        "plt.ylim(None, 1)\n",
        "plt.subplot(1, 2, 2)\n",
        "plot_graphs(history, 'loss')\n",
        "plt.ylim(0, None)"
      ]
    },
    {
      "cell_type": "markdown",
      "metadata": {
        "id": "DwSE_386uhxD"
      },
      "source": [
        "Run a prediction on a new sentence:\n",
        "\n",
        "If the prediction is >= 0.0, it is positive else it is negative."
      ]
    },
    {
      "cell_type": "code",
      "execution_count": 55,
      "metadata": {
        "id": "ZXgfQSgRW6zU",
        "colab": {
          "base_uri": "https://localhost:8080/"
        },
        "outputId": "e54ecece-9f54-401e-fdde-9b5fbfcd412b"
      },
      "outputs": [
        {
          "output_type": "stream",
          "name": "stdout",
          "text": [
            "Results from the saved model\n",
            "[[5.0210967]]\n",
            "[[0.05212127]]\n",
            "[[-2.0811937]]\n",
            "[[-6.3489327]]\n"
          ]
        }
      ],
      "source": [
        "sample_text1 = (\"You are a moron\")\n",
        "sample_text2 = (\"You are disgusting\")\n",
        "sample_text3 = (\"This was amazing!\")\n",
        "sample_text4 = (\"Really appreciate this!\")\n",
        "\n",
        "\n",
        "predictions1 = model.predict(np.array([sample_text1]))\n",
        "predictions2 = model.predict(np.array([sample_text2]))\n",
        "predictions3 = model.predict(np.array([sample_text3]))\n",
        "predictions4 = model.predict(np.array([sample_text4]))\n",
        "\n",
        "print(\"Results from the saved model\")\n",
        "print(predictions1)\n",
        "print(predictions2)\n",
        "print(predictions3)\n",
        "print(predictions4)"
      ]
    },
    {
      "cell_type": "markdown",
      "metadata": {
        "id": "7g1evcaRpTKm"
      },
      "source": [
        "## Stack two or more LSTM layers\n",
        "\n",
        "Keras recurrent layers have two available modes that are controlled by the `return_sequences` constructor argument:\n",
        "\n",
        "* If `False` it returns only the last output for each input sequence (a 2D tensor of shape (batch_size, output_features)). This is the default, used in the previous model.\n",
        "\n",
        "* If `True` the full sequences of successive outputs for each timestep is returned (a 3D tensor of shape `(batch_size, timesteps, output_features)`).\n",
        "\n",
        "Here is what the flow of information looks like with `return_sequences=True`:\n",
        "\n",
        "![layered_bidirectional](https://github.com/tensorflow/text/blob/master/docs/tutorials/images/layered_bidirectional.png?raw=1)"
      ]
    },
    {
      "cell_type": "markdown",
      "metadata": {
        "id": "wbSClCrG1z8l"
      },
      "source": [
        "The interesting thing about using an `RNN` with `return_sequences=True` is that the output still has 3-axes, like the input, so it can be passed to another RNN layer, like this:"
      ]
    },
    {
      "cell_type": "code",
      "execution_count": 26,
      "metadata": {
        "id": "jo1jjO3vn0jo"
      },
      "outputs": [],
      "source": [
        "model = tf.keras.Sequential([\n",
        "    encoder,\n",
        "    tf.keras.layers.Embedding(len(encoder.get_vocabulary()), 64, mask_zero=True),\n",
        "    tf.keras.layers.Bidirectional(tf.keras.layers.LSTM(64,  return_sequences=True)),\n",
        "    tf.keras.layers.Bidirectional(tf.keras.layers.LSTM(32)),\n",
        "    tf.keras.layers.Dense(64, activation='relu'),\n",
        "    tf.keras.layers.Dropout(0.5),\n",
        "    tf.keras.layers.Dense(1)\n",
        "])"
      ]
    },
    {
      "cell_type": "code",
      "execution_count": 27,
      "metadata": {
        "id": "hEPV5jVGp-is"
      },
      "outputs": [],
      "source": [
        "model.compile(loss=tf.keras.losses.BinaryCrossentropy(from_logits=True),\n",
        "              optimizer=tf.keras.optimizers.Adam(1e-4),\n",
        "              metrics=['accuracy'])"
      ]
    },
    {
      "cell_type": "code",
      "execution_count": 28,
      "metadata": {
        "id": "LeSE-YjdqAeN",
        "colab": {
          "base_uri": "https://localhost:8080/"
        },
        "outputId": "f2486700-2504-4b31-e3ae-26d1061d6f51"
      },
      "outputs": [
        {
          "output_type": "stream",
          "name": "stdout",
          "text": [
            "Epoch 1/10\n",
            "2494/2494 [==============================] - 258s 98ms/step - loss: 0.2100 - accuracy: 0.9301 - val_loss: 0.1841 - val_accuracy: 0.9339\n",
            "Epoch 2/10\n",
            "2494/2494 [==============================] - 238s 95ms/step - loss: 0.1495 - accuracy: 0.9482 - val_loss: 0.2197 - val_accuracy: 0.9219\n",
            "Epoch 3/10\n",
            "2494/2494 [==============================] - 235s 94ms/step - loss: 0.1440 - accuracy: 0.9488 - val_loss: 0.2158 - val_accuracy: 0.9276\n",
            "Epoch 4/10\n",
            "2494/2494 [==============================] - 238s 95ms/step - loss: 0.1411 - accuracy: 0.9491 - val_loss: 0.2083 - val_accuracy: 0.9286\n",
            "Epoch 5/10\n",
            "2494/2494 [==============================] - 242s 97ms/step - loss: 0.1394 - accuracy: 0.9493 - val_loss: 0.2098 - val_accuracy: 0.9281\n",
            "Epoch 6/10\n",
            "2494/2494 [==============================] - 239s 96ms/step - loss: 0.1378 - accuracy: 0.9496 - val_loss: 0.2076 - val_accuracy: 0.9292\n",
            "Epoch 7/10\n",
            "2494/2494 [==============================] - 238s 95ms/step - loss: 0.1362 - accuracy: 0.9498 - val_loss: 0.2228 - val_accuracy: 0.9271\n",
            "Epoch 8/10\n",
            "2494/2494 [==============================] - 237s 95ms/step - loss: 0.1346 - accuracy: 0.9502 - val_loss: 0.2286 - val_accuracy: 0.9229\n",
            "Epoch 9/10\n",
            "2494/2494 [==============================] - 237s 95ms/step - loss: 0.1331 - accuracy: 0.9504 - val_loss: 0.2236 - val_accuracy: 0.9245\n",
            "Epoch 10/10\n",
            "2494/2494 [==============================] - 244s 98ms/step - loss: 0.1315 - accuracy: 0.9505 - val_loss: 0.2198 - val_accuracy: 0.9271\n"
          ]
        }
      ],
      "source": [
        "history = model.fit(train_dataset, epochs=10,\n",
        "                    validation_data=test_dataset,\n",
        "                    validation_steps=30)"
      ]
    },
    {
      "cell_type": "code",
      "execution_count": 29,
      "metadata": {
        "id": "_LdwilM1qPM3",
        "colab": {
          "base_uri": "https://localhost:8080/"
        },
        "outputId": "19fb4b1f-02f5-4071-b767-2f482fac3cb2"
      },
      "outputs": [
        {
          "output_type": "stream",
          "name": "stdout",
          "text": [
            "1000/1000 [==============================] - 61s 61ms/step - loss: 0.2142 - accuracy: 0.9313\n",
            "Test Loss: 0.21420226991176605\n",
            "Test Accuracy: 0.9312732219696045\n"
          ]
        }
      ],
      "source": [
        "test_loss, test_acc = model.evaluate(test_dataset)\n",
        "\n",
        "print('Test Loss:', test_loss)\n",
        "print('Test Accuracy:', test_acc)"
      ]
    },
    {
      "cell_type": "code",
      "execution_count": 57,
      "metadata": {
        "id": "ykUKnAoqbycW",
        "colab": {
          "base_uri": "https://localhost:8080/"
        },
        "outputId": "a1ad6681-405e-4784-9cc0-a896df283912"
      },
      "outputs": [
        {
          "output_type": "stream",
          "name": "stdout",
          "text": [
            "Results from the saved model\n",
            "[[5.0210967]]\n",
            "[[0.05212127]]\n",
            "[[-2.0811937]]\n",
            "[[-6.3489327]]\n"
          ]
        }
      ],
      "source": [
        "sample_text1 = (\"You are a moron\")\n",
        "sample_text2 = (\"You are disgusting\")\n",
        "sample_text3 = (\"This was amazing!\")\n",
        "sample_text4 = (\"Really appreciate this!\")\n",
        "\n",
        "\n",
        "predictions1 = model.predict(np.array([sample_text1]))\n",
        "predictions2 = model.predict(np.array([sample_text2]))\n",
        "predictions3 = model.predict(np.array([sample_text3]))\n",
        "predictions4 = model.predict(np.array([sample_text4]))\n",
        "\n",
        "print(\"Results from the saved model\")\n",
        "print(predictions1)\n",
        "print(predictions2)\n",
        "print(predictions3)\n",
        "print(predictions4)"
      ]
    },
    {
      "cell_type": "code",
      "execution_count": 31,
      "metadata": {
        "id": "_YYub0EDtwCu",
        "colab": {
          "base_uri": "https://localhost:8080/",
          "height": 388
        },
        "outputId": "9d4132f1-460e-4dd7-f650-54d7a2f3e211"
      },
      "outputs": [
        {
          "output_type": "display_data",
          "data": {
            "text/plain": [
              "<Figure size 1152x432 with 2 Axes>"
            ],
            "image/png": "[encoded data removed]"
          },
          "metadata": {
            "needs_background": "light"
          }
        }
      ],
      "source": [
        "plt.figure(figsize=(16, 6))\n",
        "plt.subplot(1, 2, 1)\n",
        "plot_graphs(history, 'accuracy')\n",
        "plt.subplot(1, 2, 2)\n",
        "plot_graphs(history, 'loss')"
      ]
    },
    {
      "cell_type": "markdown",
      "metadata": {
        "id": "9xvpE3BaGw_V"
      },
      "source": [
        "Check out other existing recurrent layers such as [GRU layers](https://www.tensorflow.org/api_docs/python/tf/keras/layers/GRU).\n",
        "\n",
        "If you're interested in building custom RNNs, see the [Keras RNN Guide](https://www.tensorflow.org/guide/keras/rnn).\n"
      ]
    }
  ],
  "metadata": {
    "accelerator": "GPU",
    "colab": {
      "collapsed_sections": [],
      "name": "text_classification_rnn_wiki.ipynb",
      "provenance": []
    },
    "kernelspec": {
      "display_name": "Python 3",
      "name": "python3"
    },
    "gpuClass": "standard"
  },
  "nbformat": 4,
  "nbformat_minor": 0
}