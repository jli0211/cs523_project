{
  "cells": [
    {
      "cell_type": "markdown",
      "metadata": {
        "id": "hX4n9TsbGw-f"
      },
      "source": [
        "##### Copyright 2018 The TensorFlow Authors."
      ]
    },
    {
      "cell_type": "code",
      "execution_count": 27,
      "metadata": {
        "cellView": "form",
        "id": "0nbI5DtDGw-i"
      },
      "outputs": [],
      "source": [
        "#@title Licensed under the Apache License, Version 2.0 (the \"License\");\n",
        "# you may not use this file except in compliance with the License.\n",
        "# You may obtain a copy of the License at\n",
        "#\n",
        "# https://www.apache.org/licenses/LICENSE-2.0\n",
        "#\n",
        "# Unless required by applicable law or agreed to in writing, software\n",
        "# distributed under the License is distributed on an \"AS IS\" BASIS,\n",
        "# WITHOUT WARRANTIES OR CONDITIONS OF ANY KIND, either express or implied.\n",
        "# See the License for the specific language governing permissions and\n",
        "# limitations under the License."
      ]
    },
    {
      "cell_type": "markdown",
      "metadata": {
        "id": "9TnJztDZGw-n"
      },
      "source": [
        "# Text classification with an RNN"
      ]
    },
    {
      "cell_type": "markdown",
      "metadata": {
        "id": "AfN3bMR5Gw-o"
      },
      "source": [
        "<table class=\"tfo-notebook-buttons\" align=\"left\">\n",
        "  <td>\n",
        "    <a target=\"_blank\" href=\"https://www.tensorflow.org/text/tutorials/text_classification_rnn\"><img src=\"https://www.tensorflow.org/images/tf_logo_32px.png\" />View on TensorFlow.org</a>\n",
        "  </td>\n",
        "  <td>\n",
        "    <a target=\"_blank\" href=\"https://colab.research.google.com/github/tensorflow/text/blob/master/docs/tutorials/text_classification_rnn.ipynb\"><img src=\"https://www.tensorflow.org/images/colab_logo_32px.png\" />Run in Google Colab</a>\n",
        "  </td>\n",
        "  <td>\n",
        "    <a target=\"_blank\" href=\"https://github.com/tensorflow/text/blob/master/docs/tutorials/text_classification_rnn.ipynb\"><img src=\"https://www.tensorflow.org/images/GitHub-Mark-32px.png\" />View source on GitHub</a>\n",
        "  </td>\n",
        "  <td>\n",
        "    <a href=\"https://storage.googleapis.com/tensorflow_docs/text/docs/tutorials/text_classification_rnn.ipynb\"><img src=\"https://www.tensorflow.org/images/download_logo_32px.png\" />Download notebook</a>\n",
        "  </td>\n",
        "</table>"
      ]
    },
    {
      "cell_type": "markdown",
      "metadata": {
        "id": "lUWearf0Gw-p"
      },
      "source": [
        "This text classification tutorial trains a [recurrent neural network](https://developers.google.com/machine-learning/glossary/#recurrent_neural_network) on the [IMDB large movie review dataset](http://ai.stanford.edu/~amaas/data/sentiment/) for sentiment analysis."
      ]
    },
    {
      "cell_type": "markdown",
      "metadata": {
        "id": "_2VQo4bajwUU"
      },
      "source": [
        "## Setup"
      ]
    },
    {
      "cell_type": "code",
      "execution_count": 28,
      "metadata": {
        "id": "z682XYsrjkY9"
      },
      "outputs": [],
      "source": [
        "import numpy as np\n",
        "\n",
        "import tensorflow_datasets as tfds\n",
        "import tensorflow as tf\n",
        "\n",
        "tfds.disable_progress_bar()"
      ]
    },
    {
      "cell_type": "markdown",
      "metadata": {
        "id": "1rXHa-w9JZhb"
      },
      "source": [
        "Import `matplotlib` and create a helper function to plot graphs:"
      ]
    },
    {
      "cell_type": "code",
      "execution_count": 29,
      "metadata": {
        "id": "Mp1Z7P9pYRSK"
      },
      "outputs": [],
      "source": [
        "import matplotlib.pyplot as plt\n",
        "\n",
        "\n",
        "def plot_graphs(history, metric):\n",
        "  plt.plot(history.history[metric])\n",
        "  plt.plot(history.history['val_'+metric], '')\n",
        "  plt.xlabel(\"Epochs\")\n",
        "  plt.ylabel(metric)\n",
        "  plt.legend([metric, 'val_'+metric])"
      ]
    },
    {
      "cell_type": "markdown",
      "metadata": {
        "id": "pRmMubr0jrE2"
      },
      "source": [
        "## Setup input pipeline\n",
        "\n",
        "\n",
        "The IMDB large movie review dataset is a *binary classification* dataset—all the reviews have either a *positive* or *negative* sentiment.\n",
        "\n",
        "Download the dataset using [TFDS](https://www.tensorflow.org/datasets). See the [loading text tutorial](https://www.tensorflow.org/tutorials/load_data/text) for details on how to load this sort of data manually.\n"
      ]
    },
    {
      "cell_type": "code",
      "execution_count": 30,
      "metadata": {
        "id": "SHRwRoP2nVHX",
        "colab": {
          "base_uri": "https://localhost:8080/"
        },
        "outputId": "5daa72f2-559a-46f3-ed75-c2e26a6cb76b"
      },
      "outputs": [
        {
          "output_type": "execute_result",
          "data": {
            "text/plain": [
              "(TensorSpec(shape=(), dtype=tf.string, name=None),\n",
              " TensorSpec(shape=(), dtype=tf.int64, name=None))"
            ]
          },
          "metadata": {},
          "execution_count": 30
        }
      ],
      "source": [
        "dataset, info = tfds.load('imdb_reviews', with_info=True,\n",
        "                          as_supervised=True)\n",
        "train_dataset, test_dataset = dataset['train'], dataset['test']\n",
        "\n",
        "train_dataset.element_spec"
      ]
    },
    {
      "cell_type": "markdown",
      "metadata": {
        "id": "nWA4c2ir7g6p"
      },
      "source": [
        "Initially this returns a dataset of (text, label pairs):"
      ]
    },
    {
      "cell_type": "code",
      "execution_count": 31,
      "metadata": {
        "id": "vd4_BGKyurao",
        "colab": {
          "base_uri": "https://localhost:8080/"
        },
        "outputId": "9161f930-e408-453e-f20e-7c99c93ab00e"
      },
      "outputs": [
        {
          "output_type": "stream",
          "name": "stdout",
          "text": [
            "text:  b\"This was an absolutely terrible movie. Don't be lured in by Christopher Walken or Michael Ironside. Both are great actors, but this must simply be their worst role in history. Even their great acting could not redeem this movie's ridiculous storyline. This movie is an early nineties US propaganda piece. The most pathetic scenes were those when the Columbian rebels were making their cases for revolutions. Maria Conchita Alonso appeared phony, and her pseudo-love affair with Walken was nothing but a pathetic emotional plug in a movie that was devoid of any real meaning. I am disappointed that there are movies like this, ruining actor's like Christopher Walken's good name. I could barely sit through it.\"\n",
            "label:  0\n"
          ]
        }
      ],
      "source": [
        "for example, label in train_dataset.take(1):\n",
        "  print('text: ', example.numpy())\n",
        "  print('label: ', label.numpy())"
      ]
    },
    {
      "cell_type": "markdown",
      "metadata": {
        "id": "z2qVJzcEluH_"
      },
      "source": [
        "Next shuffle the data for training and create batches of these `(text, label)` pairs:"
      ]
    },
    {
      "cell_type": "code",
      "execution_count": 32,
      "metadata": {
        "id": "dDsCaZCDYZgm"
      },
      "outputs": [],
      "source": [
        "BUFFER_SIZE = 10000\n",
        "BATCH_SIZE = 64"
      ]
    },
    {
      "cell_type": "code",
      "execution_count": 33,
      "metadata": {
        "id": "VznrltNOnUc5"
      },
      "outputs": [],
      "source": [
        "train_dataset = train_dataset.shuffle(BUFFER_SIZE).batch(BATCH_SIZE).prefetch(tf.data.AUTOTUNE)\n",
        "test_dataset = test_dataset.batch(BATCH_SIZE).prefetch(tf.data.AUTOTUNE)"
      ]
    },
    {
      "cell_type": "code",
      "execution_count": 34,
      "metadata": {
        "id": "jqkvdcFv41wC",
        "colab": {
          "base_uri": "https://localhost:8080/"
        },
        "outputId": "2da06bd0-20f0-4a82-c486-8e227f0e6b35"
      },
      "outputs": [
        {
          "output_type": "stream",
          "name": "stdout",
          "text": [
            "texts:  [b\"I found myself very caught up in this movie, at least at the beginning, and any credit I give to this movie, is Lacey Chabert, she was fantastic!! But thats where it ends. I seem to be very good at figuring out who the killer is, and I like it when a movie is able to completely baffel me, but I felt out and out lied to, they whole time they lead you in one direction and then suddenly they decided to go in a completely different direction at the end, they gave no hit to it at all, thats not misleading that very bad writing and planning, someone did not think at all!<br /><br />I felt the movie would have been much better if they had stuck to the plot that the lead you on, they also seemed to not answer anything, why did Jane(maria) burn down the professor's house.<br /><br />Its a great pity as I felt it started out as a relatively good movie.\"\n",
            " b\"The person's comment that said that Pat Robertson is evil and his program is evil has nothing to compare what evil and righteous is. His definition of evil is the opposite of evil. The Bible itself says that in the last days people will call good evil and evil good! He doesn't even know that he fulfilled Bible prophecy! If you don't know God and refuse to know him now, that's okay. He still loves you but when you do finally bow your knee to Him, and you will, it will be too late for you. God sends no one to hell, not even you! You will go there of your own decision and your spewing defines it! May God have mercy on you and give you a Damascus Road experience. The 700 Club and Pat Robertson's ministry is one of the reasons I'm still here. On the edge of alcoholism, adultery, and probably death, God reached through the TV screen and used Pat Robertson to do it, and thank God He did! You have a right to say what you said but you don't have a right to curse with your words. God have mercy on you.\"\n",
            " b'After watching the rather sloppy WW1 spy thriller, Madam Lili (1969)starring Julie Andrews on tv this afternoon, I suddenly thought I had seen a far superior WW1 spy thriller. All I could remember was that it was produced by Dino De Laurentis. It only took a short search on IMDB to find Fraulein Doktor. Once I recognised the title the memories came flooding back. It is, for its time, a reasonably well crafted story revolving around true events such as the death of Kitchener and the German offensives of 1918.It also has a female spy who is much more believable than Julie Andrews! As with other reviewers the first and strongest memory was of the well produced battle scenes and of men and horses in gas masks. If you have an interest in war films and particularly WW1 it is a film well worth seeing if you have the opportunity.']\n",
            "\n",
            "labels:  [0 1 1]\n"
          ]
        }
      ],
      "source": [
        "for example, label in train_dataset.take(1):\n",
        "  print('texts: ', example.numpy()[:3])\n",
        "  print()\n",
        "  print('labels: ', label.numpy()[:3])"
      ]
    },
    {
      "cell_type": "markdown",
      "metadata": {
        "id": "s5eWCo88voPY"
      },
      "source": [
        "## Create the text encoder"
      ]
    },
    {
      "cell_type": "markdown",
      "metadata": {
        "id": "TFevcItw15P_"
      },
      "source": [
        "The raw text loaded by `tfds` needs to be processed before it can be used in a model. The simplest way to process text for training is using the `TextVectorization` layer. This layer has many capabilities, but this tutorial sticks to the default behavior.\n",
        "\n",
        "Create the layer, and pass the dataset's text to the layer's `.adapt` method:"
      ]
    },
    {
      "cell_type": "code",
      "execution_count": 35,
      "metadata": {
        "id": "uC25Lu1Yvuqy"
      },
      "outputs": [],
      "source": [
        "VOCAB_SIZE = 1000\n",
        "encoder = tf.keras.layers.TextVectorization(\n",
        "    max_tokens=VOCAB_SIZE)\n",
        "encoder.adapt(train_dataset.map(lambda text, label: text))"
      ]
    },
    {
      "cell_type": "markdown",
      "metadata": {
        "id": "IuQzVBbe3Ldu"
      },
      "source": [
        "The `.adapt` method sets the layer's vocabulary. Here are the first 20 tokens. After the padding and unknown tokens they're sorted by frequency: "
      ]
    },
    {
      "cell_type": "code",
      "execution_count": 36,
      "metadata": {
        "id": "tBoyjjWg0Ac9",
        "colab": {
          "base_uri": "https://localhost:8080/"
        },
        "outputId": "40ceb99a-9c1b-4a3d-d968-b6bef15267f2"
      },
      "outputs": [
        {
          "output_type": "execute_result",
          "data": {
            "text/plain": [
              "array(['', '[UNK]', 'the', 'and', 'a', 'of', 'to', 'is', 'in', 'it', 'i',\n",
              "       'this', 'that', 'br', 'was', 'as', 'for', 'with', 'movie', 'but'],\n",
              "      dtype='<U14')"
            ]
          },
          "metadata": {},
          "execution_count": 36
        }
      ],
      "source": [
        "vocab = np.array(encoder.get_vocabulary())\n",
        "vocab[:20]"
      ]
    },
    {
      "cell_type": "markdown",
      "metadata": {
        "id": "mjId5pua3jHQ"
      },
      "source": [
        "Once the vocabulary is set, the layer can encode text into indices. The tensors of indices are 0-padded to the longest sequence in the batch (unless you set a fixed `output_sequence_length`):"
      ]
    },
    {
      "cell_type": "code",
      "execution_count": 37,
      "metadata": {
        "id": "RGc7C9WiwRWs",
        "colab": {
          "base_uri": "https://localhost:8080/"
        },
        "outputId": "583fbf6d-b411-42b3-ede2-ea71cc006608"
      },
      "outputs": [
        {
          "output_type": "execute_result",
          "data": {
            "text/plain": [
              "array([[ 10, 249, 532, ...,   0,   0,   0],\n",
              "       [  2,   1, 922, ...,   0,   0,   0],\n",
              "       [101, 147,   2, ...,   0,   0,   0]])"
            ]
          },
          "metadata": {},
          "execution_count": 37
        }
      ],
      "source": [
        "encoded_example = encoder(example)[:3].numpy()\n",
        "encoded_example"
      ]
    },
    {
      "cell_type": "markdown",
      "metadata": {
        "id": "F5cjz0bS39IN"
      },
      "source": [
        "With the default settings, the process is not completely reversible. There are three main reasons for that:\n",
        "\n",
        "1. The default value for `preprocessing.TextVectorization`'s `standardize` argument is `\"lower_and_strip_punctuation\"`.\n",
        "2. The limited vocabulary size and lack of character-based fallback results in some unknown tokens."
      ]
    },
    {
      "cell_type": "code",
      "execution_count": 38,
      "metadata": {
        "id": "N_tD0QY5wXaK",
        "colab": {
          "base_uri": "https://localhost:8080/"
        },
        "outputId": "ac8efbb6-5d69-4024-9ee5-025c309b7f86"
      },
      "outputs": [
        {
          "output_type": "stream",
          "name": "stdout",
          "text": [
            "Original:  b\"I found myself very caught up in this movie, at least at the beginning, and any credit I give to this movie, is Lacey Chabert, she was fantastic!! But thats where it ends. I seem to be very good at figuring out who the killer is, and I like it when a movie is able to completely baffel me, but I felt out and out lied to, they whole time they lead you in one direction and then suddenly they decided to go in a completely different direction at the end, they gave no hit to it at all, thats not misleading that very bad writing and planning, someone did not think at all!<br /><br />I felt the movie would have been much better if they had stuck to the plot that the lead you on, they also seemed to not answer anything, why did Jane(maria) burn down the professor's house.<br /><br />Its a great pity as I felt it started out as a relatively good movie.\"\n",
            "Round-trip:  i found myself very [UNK] up in this movie at least at the beginning and any [UNK] i give to this movie is [UNK] [UNK] she was fantastic but thats where it ends i seem to be very good at [UNK] out who the killer is and i like it when a movie is able to completely [UNK] me but i felt out and out [UNK] to they whole time they lead you in one direction and then [UNK] they decided to go in a completely different direction at the end they gave no hit to it at all thats not [UNK] that very bad writing and [UNK] someone did not think at [UNK] br i felt the movie would have been much better if they had [UNK] to the plot that the lead you on they also seemed to not [UNK] anything why did [UNK] [UNK] down the [UNK] [UNK] br its a great [UNK] as i felt it started out as a [UNK] good movie                                                                                                                                                                                                                                                                                                                                                                                                                                                                                                                                                                                                                                                                                                                                                                                                                                                                                                                                                                                                                                                                                                                                                                                                                                                                                                                                                                                                               \n",
            "\n",
            "Original:  b\"The person's comment that said that Pat Robertson is evil and his program is evil has nothing to compare what evil and righteous is. His definition of evil is the opposite of evil. The Bible itself says that in the last days people will call good evil and evil good! He doesn't even know that he fulfilled Bible prophecy! If you don't know God and refuse to know him now, that's okay. He still loves you but when you do finally bow your knee to Him, and you will, it will be too late for you. God sends no one to hell, not even you! You will go there of your own decision and your spewing defines it! May God have mercy on you and give you a Damascus Road experience. The 700 Club and Pat Robertson's ministry is one of the reasons I'm still here. On the edge of alcoholism, adultery, and probably death, God reached through the TV screen and used Pat Robertson to do it, and thank God He did! You have a right to say what you said but you don't have a right to curse with your words. God have mercy on you.\"\n",
            "Round-trip:  the [UNK] comment that said that [UNK] [UNK] is evil and his [UNK] is evil has nothing to [UNK] what evil and [UNK] is his [UNK] of evil is the [UNK] of evil the [UNK] itself says that in the last days people will call good evil and evil good he doesnt even know that he [UNK] [UNK] [UNK] if you dont know god and [UNK] to know him now thats okay he still [UNK] you but when you do finally [UNK] your [UNK] to him and you will it will be too late for you god [UNK] no one to hell not even you you will go there of your own [UNK] and your [UNK] [UNK] it may god have [UNK] on you and give you a [UNK] [UNK] experience the [UNK] [UNK] and [UNK] [UNK] [UNK] is one of the [UNK] im still here on the [UNK] of [UNK] [UNK] and probably death god [UNK] through the tv screen and used [UNK] [UNK] to do it and [UNK] god he did you have a right to say what you said but you dont have a right to [UNK] with your words god have [UNK] on you                                                                                                                                                                                                                                                                                                                                                                                                                                                                                                                                                                                                                                                                                                                                                                                                                                                                                                                                                                                                                                                                                                                                                                                                                                                                                                                                                                                \n",
            "\n",
            "Original:  b'After watching the rather sloppy WW1 spy thriller, Madam Lili (1969)starring Julie Andrews on tv this afternoon, I suddenly thought I had seen a far superior WW1 spy thriller. All I could remember was that it was produced by Dino De Laurentis. It only took a short search on IMDB to find Fraulein Doktor. Once I recognised the title the memories came flooding back. It is, for its time, a reasonably well crafted story revolving around true events such as the death of Kitchener and the German offensives of 1918.It also has a female spy who is much more believable than Julie Andrews! As with other reviewers the first and strongest memory was of the well produced battle scenes and of men and horses in gas masks. If you have an interest in war films and particularly WW1 it is a film well worth seeing if you have the opportunity.'\n",
            "Round-trip:  after watching the rather [UNK] [UNK] [UNK] thriller [UNK] [UNK] [UNK] [UNK] [UNK] on tv this [UNK] i [UNK] thought i had seen a far [UNK] [UNK] [UNK] thriller all i could remember was that it was [UNK] by [UNK] de [UNK] it only took a short [UNK] on imdb to find [UNK] [UNK] once i [UNK] the title the [UNK] came [UNK] back it is for its time a [UNK] well [UNK] story [UNK] around true events such as the death of [UNK] and the [UNK] [UNK] of [UNK] also has a female [UNK] who is much more believable than [UNK] [UNK] as with other [UNK] the first and [UNK] [UNK] was of the well [UNK] battle scenes and of men and [UNK] in [UNK] [UNK] if you have an interest in war films and particularly [UNK] it is a film well worth seeing if you have the [UNK]                                                                                                                                                                                                                                                                                                                                                                                                                                                                                                                                                                                                                                                                                                                                                                                                                                                                                                                                                                                                                                                                                                                                                                                                                                                                                                                                                                                                                                \n",
            "\n"
          ]
        }
      ],
      "source": [
        "for n in range(3):\n",
        "  print(\"Original: \", example[n].numpy())\n",
        "  print(\"Round-trip: \", \" \".join(vocab[encoded_example[n]]))\n",
        "  print()"
      ]
    },
    {
      "cell_type": "markdown",
      "metadata": {
        "id": "bjUqGVBxGw-t"
      },
      "source": [
        "## Create the model"
      ]
    },
    {
      "cell_type": "markdown",
      "metadata": {
        "id": "W7zsmInBOCPO"
      },
      "source": [
        "![A drawing of the information flow in the model](https://github.com/tensorflow/text/blob/master/docs/tutorials/images/bidirectional.png?raw=1)"
      ]
    },
    {
      "cell_type": "markdown",
      "metadata": {
        "id": "bgs6nnSTGw-t"
      },
      "source": [
        "Above is a diagram of the model. \n",
        "\n",
        "1. This model can be build as a `tf.keras.Sequential`.\n",
        "\n",
        "2. The first layer is the `encoder`, which converts the text to a sequence of token indices.\n",
        "\n",
        "3. After the encoder is an embedding layer. An embedding layer stores one vector per word. When called, it converts the sequences of word indices to sequences of vectors. These vectors are trainable. After training (on enough data), words with similar meanings often have similar vectors.\n",
        "\n",
        "  This index-lookup is much more efficient than the equivalent operation of passing a one-hot encoded vector through a `tf.keras.layers.Dense` layer.\n",
        "\n",
        "4. A recurrent neural network (RNN) processes sequence input by iterating through the elements. RNNs pass the outputs from one timestep to their input on the next timestep.\n",
        "\n",
        "  The `tf.keras.layers.Bidirectional` wrapper can also be used with an RNN layer. This propagates the input forward and backwards through the RNN layer and then concatenates the final output. \n",
        "\n",
        "  * The main advantage of a bidirectional RNN is that the signal from the beginning of the input doesn't need to be processed all the way through every timestep to affect the output.  \n",
        "\n",
        "  * The main disadvantage of a bidirectional RNN is that you can't efficiently stream predictions as words are being added to the end.\n",
        "\n",
        "5. After the RNN has converted the sequence to a single vector the two `layers.Dense` do some final processing, and convert from this vector representation to a single logit as the classification output. \n"
      ]
    },
    {
      "cell_type": "markdown",
      "metadata": {
        "id": "V4fodCI7soQi"
      },
      "source": [
        "The code to implement this is below:"
      ]
    },
    {
      "cell_type": "code",
      "execution_count": 39,
      "metadata": {
        "id": "LwfoBkmRYcP3"
      },
      "outputs": [],
      "source": [
        "model = tf.keras.Sequential([\n",
        "    encoder,\n",
        "    tf.keras.layers.Embedding(\n",
        "        input_dim=len(encoder.get_vocabulary()),\n",
        "        output_dim=64,\n",
        "        # Use masking to handle the variable sequence lengths\n",
        "        mask_zero=True),\n",
        "    tf.keras.layers.Bidirectional(tf.keras.layers.LSTM(64)),\n",
        "    tf.keras.layers.Dense(64, activation='relu'),\n",
        "    tf.keras.layers.Dense(1)\n",
        "])"
      ]
    },
    {
      "cell_type": "markdown",
      "metadata": {
        "id": "QIGmIGkkouUb"
      },
      "source": [
        "Please note that Keras sequential model is used here since all the layers in the model only have single input and produce single output. In case you want to use stateful RNN layer, you might want to build your model with Keras functional API or model subclassing so that you can retrieve and reuse the RNN layer states. Please check [Keras RNN guide](https://www.tensorflow.org/guide/keras/rnn#rnn_state_reuse) for more details."
      ]
    },
    {
      "cell_type": "markdown",
      "metadata": {
        "id": "kF-PsCk1LwjY"
      },
      "source": [
        "The embedding layer [uses masking](https://www.tensorflow.org/guide/keras/masking_and_padding) to handle the varying sequence-lengths. All the layers after the `Embedding` support masking:"
      ]
    },
    {
      "cell_type": "code",
      "execution_count": 40,
      "metadata": {
        "id": "87a8-CwfKebw",
        "colab": {
          "base_uri": "https://localhost:8080/"
        },
        "outputId": "42d5f9e1-3499-4847-bdb9-3eb380acf12b"
      },
      "outputs": [
        {
          "output_type": "stream",
          "name": "stdout",
          "text": [
            "[False, True, True, True, True]\n"
          ]
        }
      ],
      "source": [
        "print([layer.supports_masking for layer in model.layers])"
      ]
    },
    {
      "cell_type": "markdown",
      "metadata": {
        "id": "ZlS0iaUIWLpI"
      },
      "source": [
        "To confirm that this works as expected, evaluate a sentence twice. First, alone so there's no padding to mask:"
      ]
    },
    {
      "cell_type": "code",
      "execution_count": 41,
      "metadata": {
        "id": "O41gw3KfWHus",
        "colab": {
          "base_uri": "https://localhost:8080/"
        },
        "outputId": "17dac62f-737f-4ce0-8dae-407077208959"
      },
      "outputs": [
        {
          "output_type": "stream",
          "name": "stdout",
          "text": [
            "[0.01030382]\n"
          ]
        }
      ],
      "source": [
        "# predict on a sample text without padding.\n",
        "\n",
        "sample_text = ('The movie was cool. The animation and the graphics '\n",
        "               'were out of this world. I would recommend this movie.')\n",
        "predictions = model.predict(np.array([sample_text]))\n",
        "print(predictions[0])"
      ]
    },
    {
      "cell_type": "markdown",
      "metadata": {
        "id": "K0VQmGnEWcuz"
      },
      "source": [
        "Now, evaluate it again in a batch with a longer sentence. The result should be identical:"
      ]
    },
    {
      "cell_type": "code",
      "execution_count": 42,
      "metadata": {
        "id": "UIgpuTeFNDzq",
        "colab": {
          "base_uri": "https://localhost:8080/"
        },
        "outputId": "95c20fd4-45aa-4624-a219-bf82675b10e2"
      },
      "outputs": [
        {
          "output_type": "stream",
          "name": "stdout",
          "text": [
            "[0.01030381]\n"
          ]
        }
      ],
      "source": [
        "# predict on a sample text with padding\n",
        "\n",
        "padding = \"the \" * 2000\n",
        "predictions = model.predict(np.array([sample_text, padding]))\n",
        "print(predictions[0])"
      ]
    },
    {
      "cell_type": "markdown",
      "metadata": {
        "id": "sRI776ZcH3Tf"
      },
      "source": [
        "Compile the Keras model to configure the training process:"
      ]
    },
    {
      "cell_type": "code",
      "execution_count": 43,
      "metadata": {
        "id": "kj2xei41YZjC"
      },
      "outputs": [],
      "source": [
        "model.compile(loss=tf.keras.losses.BinaryCrossentropy(from_logits=True),\n",
        "              optimizer=tf.keras.optimizers.Adam(1e-4),\n",
        "              metrics=['accuracy'])"
      ]
    },
    {
      "cell_type": "markdown",
      "metadata": {
        "id": "zIwH3nto596k"
      },
      "source": [
        "## Train the model"
      ]
    },
    {
      "cell_type": "code",
      "execution_count": 44,
      "metadata": {
        "id": "hw86wWS4YgR2",
        "colab": {
          "base_uri": "https://localhost:8080/"
        },
        "outputId": "41adfa7b-5dc4-4603-f798-3f042dbbff38"
      },
      "outputs": [
        {
          "output_type": "stream",
          "name": "stdout",
          "text": [
            "Epoch 1/10\n",
            "391/391 [==============================] - 42s 90ms/step - loss: 0.6360 - accuracy: 0.5725 - val_loss: 0.4763 - val_accuracy: 0.7964\n",
            "Epoch 2/10\n",
            "391/391 [==============================] - 33s 83ms/step - loss: 0.4173 - accuracy: 0.8052 - val_loss: 0.3830 - val_accuracy: 0.8099\n",
            "Epoch 3/10\n",
            "391/391 [==============================] - 35s 88ms/step - loss: 0.3526 - accuracy: 0.8460 - val_loss: 0.3635 - val_accuracy: 0.8141\n",
            "Epoch 4/10\n",
            "391/391 [==============================] - 35s 88ms/step - loss: 0.3251 - accuracy: 0.8582 - val_loss: 0.3329 - val_accuracy: 0.8479\n",
            "Epoch 5/10\n",
            "391/391 [==============================] - 33s 84ms/step - loss: 0.3132 - accuracy: 0.8636 - val_loss: 0.3279 - val_accuracy: 0.8536\n",
            "Epoch 6/10\n",
            "391/391 [==============================] - 33s 84ms/step - loss: 0.3045 - accuracy: 0.8695 - val_loss: 0.3360 - val_accuracy: 0.8562\n",
            "Epoch 7/10\n",
            "391/391 [==============================] - 33s 84ms/step - loss: 0.3011 - accuracy: 0.8708 - val_loss: 0.3194 - val_accuracy: 0.8594\n",
            "Epoch 8/10\n",
            "391/391 [==============================] - 33s 84ms/step - loss: 0.3014 - accuracy: 0.8691 - val_loss: 0.3224 - val_accuracy: 0.8552\n",
            "Epoch 9/10\n",
            "391/391 [==============================] - 34s 86ms/step - loss: 0.2967 - accuracy: 0.8716 - val_loss: 0.3210 - val_accuracy: 0.8562\n",
            "Epoch 10/10\n",
            "391/391 [==============================] - 33s 85ms/step - loss: 0.2939 - accuracy: 0.8740 - val_loss: 0.3228 - val_accuracy: 0.8599\n"
          ]
        }
      ],
      "source": [
        "history = model.fit(train_dataset, epochs=10,\n",
        "                    validation_data=test_dataset,\n",
        "                    validation_steps=30)"
      ]
    },
    {
      "cell_type": "code",
      "execution_count": 45,
      "metadata": {
        "id": "BaNbXi43YgUT",
        "colab": {
          "base_uri": "https://localhost:8080/"
        },
        "outputId": "779e2a73-2542-4749-eaa1-eae006a76788"
      },
      "outputs": [
        {
          "output_type": "stream",
          "name": "stdout",
          "text": [
            "391/391 [==============================] - 19s 50ms/step - loss: 0.3205 - accuracy: 0.8631\n",
            "Test Loss: 0.3205200135707855\n",
            "Test Accuracy: 0.8630800247192383\n"
          ]
        }
      ],
      "source": [
        "test_loss, test_acc = model.evaluate(test_dataset)\n",
        "\n",
        "print('Test Loss:', test_loss)\n",
        "print('Test Accuracy:', test_acc)"
      ]
    },
    {
      "cell_type": "code",
      "execution_count": 46,
      "metadata": {
        "id": "OZmwt_mzaQJk",
        "colab": {
          "base_uri": "https://localhost:8080/",
          "height": 519
        },
        "outputId": "85f07869-5eb4-409f-c224-0de71fc1e6e6"
      },
      "outputs": [
        {
          "output_type": "execute_result",
          "data": {
            "text/plain": [
              "(0.0, 0.6530664265155792)"
            ]
          },
          "metadata": {},
          "execution_count": 46
        },
        {
          "output_type": "display_data",
          "data": {
            "text/plain": [
              "<Figure size 1152x576 with 2 Axes>"
            ],
            "image/png": "[encoded data removed]"
          },
          "metadata": {
            "needs_background": "light"
          }
        }
      ],
      "source": [
        "plt.figure(figsize=(16, 8))\n",
        "plt.subplot(1, 2, 1)\n",
        "plot_graphs(history, 'accuracy')\n",
        "plt.ylim(None, 1)\n",
        "plt.subplot(1, 2, 2)\n",
        "plot_graphs(history, 'loss')\n",
        "plt.ylim(0, None)"
      ]
    },
    {
      "cell_type": "markdown",
      "metadata": {
        "id": "DwSE_386uhxD"
      },
      "source": [
        "Run a prediction on a new sentence:\n",
        "\n",
        "If the prediction is >= 0.0, it is positive else it is negative."
      ]
    },
    {
      "cell_type": "code",
      "execution_count": 47,
      "metadata": {
        "id": "ZXgfQSgRW6zU",
        "colab": {
          "base_uri": "https://localhost:8080/"
        },
        "outputId": "2b9155a8-cf25-4402-a9ed-e57615021f0f"
      },
      "outputs": [
        {
          "output_type": "stream",
          "name": "stdout",
          "text": [
            "Results from the saved model\n",
            "[[-2.0333035]]\n",
            "[[-1.1821321]]\n",
            "[[0.0182563]]\n",
            "[[0.4557745]]\n",
            "[[0.0182563]]\n"
          ]
        }
      ],
      "source": [
        "sample_text1 = (\"This is such an awful movie!\")\n",
        "sample_text2 = (\"The movie was bad!\")\n",
        "sample_text3 = (\"The movie was meh\")\n",
        "sample_text4 = (\"The movie was really good!\")\n",
        "sample_text5 = (\"The movie was awesome!\")\n",
        "\n",
        "\n",
        "predictions1 = model.predict(np.array([sample_text1]))\n",
        "predictions2 = model.predict(np.array([sample_text2]))\n",
        "predictions3 = model.predict(np.array([sample_text3]))\n",
        "predictions4 = model.predict(np.array([sample_text4]))\n",
        "predictions5 = model.predict(np.array([sample_text5]))\n",
        "\n",
        "\n",
        "print(\"Results from the saved model\")\n",
        "print(predictions1)\n",
        "print(predictions2)\n",
        "print(predictions3)\n",
        "print(predictions4)\n",
        "print(predictions5)"
      ]
    },
    {
      "cell_type": "markdown",
      "metadata": {
        "id": "7g1evcaRpTKm"
      },
      "source": [
        "## Stack two or more LSTM layers\n",
        "\n",
        "Keras recurrent layers have two available modes that are controlled by the `return_sequences` constructor argument:\n",
        "\n",
        "* If `False` it returns only the last output for each input sequence (a 2D tensor of shape (batch_size, output_features)). This is the default, used in the previous model.\n",
        "\n",
        "* If `True` the full sequences of successive outputs for each timestep is returned (a 3D tensor of shape `(batch_size, timesteps, output_features)`).\n",
        "\n",
        "Here is what the flow of information looks like with `return_sequences=True`:\n",
        "\n",
        "![layered_bidirectional](https://github.com/tensorflow/text/blob/master/docs/tutorials/images/layered_bidirectional.png?raw=1)"
      ]
    },
    {
      "cell_type": "markdown",
      "metadata": {
        "id": "wbSClCrG1z8l"
      },
      "source": [
        "The interesting thing about using an `RNN` with `return_sequences=True` is that the output still has 3-axes, like the input, so it can be passed to another RNN layer, like this:"
      ]
    },
    {
      "cell_type": "code",
      "execution_count": 49,
      "metadata": {
        "id": "jo1jjO3vn0jo"
      },
      "outputs": [],
      "source": [
        "model = tf.keras.Sequential([\n",
        "    encoder,\n",
        "    tf.keras.layers.Embedding(len(encoder.get_vocabulary()), 64, mask_zero=True),\n",
        "    tf.keras.layers.Bidirectional(tf.keras.layers.LSTM(64,  return_sequences=True)),\n",
        "    tf.keras.layers.Bidirectional(tf.keras.layers.LSTM(32)),\n",
        "    tf.keras.layers.Dense(64, activation='relu'),\n",
        "    tf.keras.layers.Dropout(0.5),\n",
        "    tf.keras.layers.Dense(1)\n",
        "])"
      ]
    },
    {
      "cell_type": "code",
      "execution_count": 50,
      "metadata": {
        "id": "hEPV5jVGp-is"
      },
      "outputs": [],
      "source": [
        "model.compile(loss=tf.keras.losses.BinaryCrossentropy(from_logits=True),\n",
        "              optimizer=tf.keras.optimizers.Adam(1e-4),\n",
        "              metrics=['accuracy'])"
      ]
    },
    {
      "cell_type": "code",
      "execution_count": 51,
      "metadata": {
        "id": "LeSE-YjdqAeN",
        "colab": {
          "base_uri": "https://localhost:8080/"
        },
        "outputId": "8ea72321-d66d-40d4-db16-00355cae9ea4"
      },
      "outputs": [
        {
          "output_type": "stream",
          "name": "stdout",
          "text": [
            "Epoch 1/10\n",
            "391/391 [==============================] - 114s 152ms/step - loss: 0.6529 - accuracy: 0.5566 - val_loss: 0.4517 - val_accuracy: 0.8125\n",
            "Epoch 2/10\n",
            "391/391 [==============================] - 55s 141ms/step - loss: 0.3946 - accuracy: 0.8267 - val_loss: 0.3531 - val_accuracy: 0.8391\n",
            "Epoch 3/10\n",
            "391/391 [==============================] - 56s 141ms/step - loss: 0.3375 - accuracy: 0.8552 - val_loss: 0.3372 - val_accuracy: 0.8568\n",
            "Epoch 4/10\n",
            "391/391 [==============================] - 56s 143ms/step - loss: 0.3162 - accuracy: 0.8647 - val_loss: 0.3226 - val_accuracy: 0.8526\n",
            "Epoch 5/10\n",
            "391/391 [==============================] - 56s 144ms/step - loss: 0.3096 - accuracy: 0.8672 - val_loss: 0.3227 - val_accuracy: 0.8495\n",
            "Epoch 6/10\n",
            "391/391 [==============================] - 56s 142ms/step - loss: 0.3041 - accuracy: 0.8682 - val_loss: 0.3185 - val_accuracy: 0.8615\n",
            "Epoch 7/10\n",
            "391/391 [==============================] - 55s 140ms/step - loss: 0.3012 - accuracy: 0.8721 - val_loss: 0.3152 - val_accuracy: 0.8635\n",
            "Epoch 8/10\n",
            "391/391 [==============================] - 56s 143ms/step - loss: 0.2933 - accuracy: 0.8748 - val_loss: 0.3154 - val_accuracy: 0.8516\n",
            "Epoch 9/10\n",
            "391/391 [==============================] - 56s 143ms/step - loss: 0.2931 - accuracy: 0.8743 - val_loss: 0.3241 - val_accuracy: 0.8625\n",
            "Epoch 10/10\n",
            "391/391 [==============================] - 56s 143ms/step - loss: 0.2881 - accuracy: 0.8781 - val_loss: 0.3140 - val_accuracy: 0.8547\n"
          ]
        }
      ],
      "source": [
        "history = model.fit(train_dataset, epochs=10,\n",
        "                    validation_data=test_dataset,\n",
        "                    validation_steps=30)"
      ]
    },
    {
      "cell_type": "code",
      "execution_count": 52,
      "metadata": {
        "id": "_LdwilM1qPM3",
        "colab": {
          "base_uri": "https://localhost:8080/"
        },
        "outputId": "413564ce-cf3f-4e86-9f23-081a13bb7ef3"
      },
      "outputs": [
        {
          "output_type": "stream",
          "name": "stdout",
          "text": [
            "391/391 [==============================] - 28s 73ms/step - loss: 0.3148 - accuracy: 0.8565\n",
            "Test Loss: 0.3148285150527954\n",
            "Test Accuracy: 0.8565199971199036\n"
          ]
        }
      ],
      "source": [
        "test_loss, test_acc = model.evaluate(test_dataset)\n",
        "\n",
        "print('Test Loss:', test_loss)\n",
        "print('Test Accuracy:', test_acc)"
      ]
    },
    {
      "cell_type": "code",
      "execution_count": 59,
      "metadata": {
        "id": "ykUKnAoqbycW",
        "colab": {
          "base_uri": "https://localhost:8080/"
        },
        "outputId": "acd828a7-5f02-44a5-8628-a9e33bff2153"
      },
      "outputs": [
        {
          "output_type": "stream",
          "name": "stdout",
          "text": [
            "Results from the saved model\n",
            "[[-0.9865]]\n",
            "[[-0.33178064]]\n",
            "[[-0.07745405]]\n",
            "[[0.2473146]]\n",
            "[[-0.07745405]]\n"
          ]
        }
      ],
      "source": [
        "sample_text1 = (\"This is such an awful movie!\")\n",
        "sample_text2 = (\"The movie was bad!\")\n",
        "sample_text3 = (\"The movie was meh\")\n",
        "sample_text4 = (\"The movie was really good!\")\n",
        "sample_text5 = (\"The movie was awesome!\")\n",
        "\n",
        "\n",
        "predictions1 = model.predict(np.array([sample_text1]))\n",
        "predictions2 = model.predict(np.array([sample_text2]))\n",
        "predictions3 = model.predict(np.array([sample_text3]))\n",
        "predictions4 = model.predict(np.array([sample_text4]))\n",
        "predictions5 = model.predict(np.array([sample_text5]))\n",
        "\n",
        "\n",
        "print(\"Results from the saved model\")\n",
        "print(predictions1)\n",
        "print(predictions2)\n",
        "print(predictions3)\n",
        "print(predictions4)\n",
        "print(predictions5)"
      ]
    },
    {
      "cell_type": "code",
      "execution_count": 54,
      "metadata": {
        "id": "_YYub0EDtwCu",
        "colab": {
          "base_uri": "https://localhost:8080/",
          "height": 388
        },
        "outputId": "41969930-9201-4420-efee-14a89a802684"
      },
      "outputs": [
        {
          "output_type": "display_data",
          "data": {
            "text/plain": [
              "<Figure size 1152x432 with 2 Axes>"
            ],
            "image/png": "[encoded data removed]"
          },
          "metadata": {
            "needs_background": "light"
          }
        }
      ],
      "source": [
        "plt.figure(figsize=(16, 6))\n",
        "plt.subplot(1, 2, 1)\n",
        "plot_graphs(history, 'accuracy')\n",
        "plt.subplot(1, 2, 2)\n",
        "plot_graphs(history, 'loss')"
      ]
    },
    {
      "cell_type": "markdown",
      "metadata": {
        "id": "9xvpE3BaGw_V"
      },
      "source": [
        "Check out other existing recurrent layers such as [GRU layers](https://www.tensorflow.org/api_docs/python/tf/keras/layers/GRU).\n",
        "\n",
        "If you're interested in building custom RNNs, see the [Keras RNN Guide](https://www.tensorflow.org/guide/keras/rnn).\n"
      ]
    }
  ],
  "metadata": {
    "accelerator": "GPU",
    "colab": {
      "collapsed_sections": [],
      "name": "text_classification_rnn_imdb.ipynb",
      "provenance": []
    },
    "kernelspec": {
      "display_name": "Python 3",
      "name": "python3"
    }
  },
  "nbformat": 4,
  "nbformat_minor": 0
}